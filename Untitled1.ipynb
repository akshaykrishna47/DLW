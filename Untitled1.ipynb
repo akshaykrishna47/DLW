{
 "cells": [
  {
   "cell_type": "code",
   "execution_count": 1,
   "id": "8cba51ef",
   "metadata": {},
   "outputs": [
    {
     "name": "stdout",
     "output_type": "stream",
     "text": [
      "{'metadata': {'stations': [{'id': 'S117', 'device_id': 'S117', 'name': 'Banyan Road', 'location': {'latitude': 1.256, 'longitude': 103.679}}, {'id': 'S50', 'device_id': 'S50', 'name': 'Clementi Road', 'location': {'latitude': 1.3337, 'longitude': 103.7768}}, {'id': 'S43', 'device_id': 'S43', 'name': 'Kim Chuan Road', 'location': {'latitude': 1.3399, 'longitude': 103.8878}}, {'id': 'S44', 'device_id': 'S44', 'name': 'Nanyang Avenue', 'location': {'latitude': 1.34583, 'longitude': 103.68166}}, {'id': 'S111', 'device_id': 'S111', 'name': 'Scotts Road', 'location': {'latitude': 1.31055, 'longitude': 103.8365}}, {'id': 'S60', 'device_id': 'S60', 'name': 'Sentosa', 'location': {'latitude': 1.25, 'longitude': 103.8279}}, {'id': 'S115', 'device_id': 'S115', 'name': 'Tuas South Avenue 3', 'location': {'latitude': 1.29377, 'longitude': 103.61843}}], 'reading_type': 'DBT 1M F', 'reading_unit': 'deg C'}, 'items': [{'timestamp': '2024-03-05T13:00:00+08:00', 'readings': [{'station_id': 'S117', 'value': 29.9}, {'station_id': 'S50', 'value': 30.6}, {'station_id': 'S43', 'value': 30.9}, {'station_id': 'S44', 'value': 32.5}, {'station_id': 'S111', 'value': 29.8}, {'station_id': 'S60', 'value': 30.5}, {'station_id': 'S115', 'value': 29.7}]}], 'api_info': {'status': 'healthy'}}\n"
     ]
    }
   ],
   "source": [
    "import requests\n",
    "\n",
    "# Specify the API endpoint\n",
    "api_url = \"https://api.data.gov.sg/v1/environment/air-temperature\"\n",
    "\n",
    "# Make a GET request to the API\n",
    "response = requests.get(api_url)\n",
    "\n",
    "# Check if the request was successful (status code 200)\n",
    "if response.status_code == 200:\n",
    "    # Parse JSON response\n",
    "    data = response.json()\n",
    "\n",
    "    # Now 'data' contains the information from the API, and you can work with it as needed\n",
    "    print(data)\n",
    "else:\n",
    "    print(f\"Failed to retrieve data. Status code: {response.status_code}\")\n"
   ]
  },
  {
   "cell_type": "code",
   "execution_count": 6,
   "id": "379cc100",
   "metadata": {},
   "outputs": [
    {
     "name": "stdout",
     "output_type": "stream",
     "text": [
      "Requirement already satisfied: requests in c:\\msys64\\mingw64\\lib\\python3.10\\site-packages (2.31.0)\n",
      "Requirement already satisfied: mysql-connector-python in c:\\msys64\\mingw64\\lib\\python3.10\\site-packages (8.3.0)\n",
      "Requirement already satisfied: charset-normalizer<4,>=2 in c:\\msys64\\mingw64\\lib\\python3.10\\site-packages (from requests) (3.3.2)\n",
      "Requirement already satisfied: idna<4,>=2.5 in c:\\msys64\\mingw64\\lib\\python3.10\\site-packages (from requests) (3.6)\n",
      "Requirement already satisfied: urllib3<3,>=1.21.1 in c:\\msys64\\mingw64\\lib\\python3.10\\site-packages (from requests) (2.2.1)\n",
      "Requirement already satisfied: certifi>=2017.4.17 in c:\\msys64\\mingw64\\lib\\python3.10\\site-packages (from requests) (2024.2.2)\n",
      "Requirement already satisfied: datetime in c:\\msys64\\mingw64\\lib\\python3.10\\site-packages (5.4)\n",
      "Requirement already satisfied: zope.interface in c:\\msys64\\mingw64\\lib\\python3.10\\site-packages (from datetime) (6.2)\n",
      "Requirement already satisfied: pytz in c:\\msys64\\mingw64\\lib\\python3.10\\site-packages (from datetime) (2024.1)\n",
      "Requirement already satisfied: setuptools in c:\\msys64\\mingw64\\lib\\python3.10\\site-packages (from zope.interface->datetime) (69.1.1)\n",
      "Requirement already satisfied: mysql-connector-python in c:\\msys64\\mingw64\\lib\\python3.10\\site-packages (8.3.0)\n"
     ]
    }
   ],
   "source": [
    "!pip install requests mysql-connector-python\n",
    "!pip install datetime\n",
    "import requests\n",
    "import datetime"
   ]
  },
  {
   "cell_type": "code",
   "execution_count": null,
   "id": "a950f7c1",
   "metadata": {},
   "outputs": [],
   "source": [
    "import sys\n",
    "!{sys.executable} -m pip install mysql-connector-python\n",
    "import mysql.connector\n",
    "\n"
   ]
  },
  {
   "cell_type": "code",
   "execution_count": null,
   "id": "d476f86a",
   "metadata": {},
   "outputs": [],
   "source": [
    "\n",
    "# Insert a new reading\n",
    "def insert_reading(cursor, station_id, timestamp, value):\n",
    "    cursor.execute(\n",
    "        \"INSERT INTO readings (station_id, timestamp, value) VALUES (%s, %s, %s)\",\n",
    "        (station_id, timestamp, value)\n",
    "    )\n",
    "\n"
   ]
  },
  {
   "cell_type": "code",
   "execution_count": null,
   "id": "a8c2ee7d",
   "metadata": {},
   "outputs": [],
   "source": [
    "\n",
    "\n",
    "#connect to the readings database\n",
    "connection = mysql.connector.connect(\n",
    "    host=\"localhost\n",
    "    user=\"root\",\n",
    "    password=\"password\",\n",
    "    database=\"readings\"\n",
    "\n",
    ")\n",
    "\n",
    "\n",
    "\n",
    "\n",
    "# Create a new cursor\n",
    "cursor = connection.cursor()\n",
    "\n",
    "# Insert a new station and reading from API data every 5 minutes\n",
    "while True:\n",
    "    # Make a GET request to the API\n",
    "    response = requests.get(api_url)\n",
    "\n",
    "    # Check if the request was successful (status code 200)\n",
    "    if response.status_code == 200:\n",
    "        # Parse JSON response\n",
    "        data = response.json()\n",
    "\n",
    "        # Extract the station ID, timestamp, and value from the data\n",
    "        station_id = data[\"metadata\"][\"station_id\"]\n",
    "        timestamp = data[\"items\"][0][\"timestamp\"]\n",
    "        value = data[\"items\"][0][\"readings\"][0][\"value\"]\n",
    "\n",
    "        if station_id == \"S117\":\n",
    "            insert_reading(cursor, station_id, timestamp, value)\n",
    "\n",
    "        # Commit the changes\n",
    "        connection.commit()\n",
    "\n",
    "        # Wait for 5 minutes\n",
    "        time.sleep(300)\n",
    "    else:\n",
    "        print(f\"Failed to retrieve data. Status code: {response.status_code}\")"
   ]
  }
 ],
 "metadata": {
  "kernelspec": {
   "display_name": "Python 3 (ipykernel)",
   "language": "python",
   "name": "python3"
  },
  "language_info": {
   "codemirror_mode": {
    "name": "ipython",
    "version": 3
   },
   "file_extension": ".py",
   "mimetype": "text/x-python",
   "name": "python",
   "nbconvert_exporter": "python",
   "pygments_lexer": "ipython3",
   "version": "3.11.2"
  }
 },
 "nbformat": 4,
 "nbformat_minor": 5
}
