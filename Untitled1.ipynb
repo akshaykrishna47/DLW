{
 "cells": [
  {
   "cell_type": "code",
   "execution_count": 16,
   "id": "8cba51ef",
   "metadata": {},
   "outputs": [
    {
     "name": "stdout",
     "output_type": "stream",
     "text": [
      "{'metadata': {'stations': [{'id': 'S117', 'device_id': 'S117', 'name': 'Banyan Road', 'location': {'latitude': 1.256, 'longitude': 103.679}}, {'id': 'S50', 'device_id': 'S50', 'name': 'Clementi Road', 'location': {'latitude': 1.3337, 'longitude': 103.7768}}, {'id': 'S43', 'device_id': 'S43', 'name': 'Kim Chuan Road', 'location': {'latitude': 1.3399, 'longitude': 103.8878}}, {'id': 'S44', 'device_id': 'S44', 'name': 'Nanyang Avenue', 'location': {'latitude': 1.34583, 'longitude': 103.68166}}, {'id': 'S111', 'device_id': 'S111', 'name': 'Scotts Road', 'location': {'latitude': 1.31055, 'longitude': 103.8365}}, {'id': 'S60', 'device_id': 'S60', 'name': 'Sentosa', 'location': {'latitude': 1.25, 'longitude': 103.8279}}, {'id': 'S115', 'device_id': 'S115', 'name': 'Tuas South Avenue 3', 'location': {'latitude': 1.29377, 'longitude': 103.61843}}], 'reading_type': 'DBT 1M F', 'reading_unit': 'deg C'}, 'items': [{'timestamp': '2024-03-04T19:05:00+08:00', 'readings': [{'station_id': 'S117', 'value': 24.9}, {'station_id': 'S50', 'value': 25.4}, {'station_id': 'S43', 'value': 26.7}, {'station_id': 'S44', 'value': 25.5}, {'station_id': 'S111', 'value': 26.3}, {'station_id': 'S60', 'value': 25.8}, {'station_id': 'S115', 'value': 24.5}]}], 'api_info': {'status': 'healthy'}}\n"
     ]
    }
   ],
   "source": [
    "import requests\n",
    "\n",
    "# Specify the API endpoint\n",
    "api_url = \"https://api.data.gov.sg/v1/environment/air-temperature\"\n",
    "\n",
    "# Make a GET request to the API\n",
    "response = requests.get(api_url)\n",
    "\n",
    "# Check if the request was successful (status code 200)\n",
    "if response.status_code == 200:\n",
    "    # Parse JSON response\n",
    "    data = response.json()\n",
    "\n",
    "    # Now 'data' contains the information from the API, and you can work with it as needed\n",
    "    print(data)\n",
    "else:\n",
    "    print(f\"Failed to retrieve data. Status code: {response.status_code}\")\n"
   ]
  },
  {
   "cell_type": "code",
   "execution_count": null,
   "id": "379cc100",
   "metadata": {},
   "outputs": [],
   "source": []
  }
 ],
 "metadata": {
  "kernelspec": {
   "display_name": "Python 3 (ipykernel)",
   "language": "python",
   "name": "python3"
  },
  "language_info": {
   "codemirror_mode": {
    "name": "ipython",
    "version": 3
   },
   "file_extension": ".py",
   "mimetype": "text/x-python",
   "name": "python",
   "nbconvert_exporter": "python",
   "pygments_lexer": "ipython3",
   "version": "3.9.13"
  }
 },
 "nbformat": 4,
 "nbformat_minor": 5
}
