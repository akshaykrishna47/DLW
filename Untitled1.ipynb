{
 "cells": [
  {
   "cell_type": "code",
   "execution_count": 3,
   "id": "8cba51ef",
   "metadata": {},
   "outputs": [
    {
     "name": "stdout",
     "output_type": "stream",
     "text": [
      "{'metadata': {'stations': [{'id': 'S117', 'device_id': 'S117', 'name': 'Banyan Road', 'location': {'latitude': 1.256, 'longitude': 103.679}}, {'id': 'S50', 'device_id': 'S50', 'name': 'Clementi Road', 'location': {'latitude': 1.3337, 'longitude': 103.7768}}, {'id': 'S43', 'device_id': 'S43', 'name': 'Kim Chuan Road', 'location': {'latitude': 1.3399, 'longitude': 103.8878}}, {'id': 'S44', 'device_id': 'S44', 'name': 'Nanyang Avenue', 'location': {'latitude': 1.34583, 'longitude': 103.68166}}, {'id': 'S111', 'device_id': 'S111', 'name': 'Scotts Road', 'location': {'latitude': 1.31055, 'longitude': 103.8365}}, {'id': 'S60', 'device_id': 'S60', 'name': 'Sentosa', 'location': {'latitude': 1.25, 'longitude': 103.8279}}, {'id': 'S115', 'device_id': 'S115', 'name': 'Tuas South Avenue 3', 'location': {'latitude': 1.29377, 'longitude': 103.61843}}], 'reading_type': 'DBT 1M F', 'reading_unit': 'deg C'}, 'items': [{'timestamp': '2024-03-05T14:50:00+08:00', 'readings': [{'station_id': 'S117', 'value': 30.4}, {'station_id': 'S50', 'value': 25.9}, {'station_id': 'S43', 'value': 25.5}, {'station_id': 'S44', 'value': 24.7}, {'station_id': 'S111', 'value': 24.8}, {'station_id': 'S60', 'value': 31.6}, {'station_id': 'S115', 'value': 26.6}]}], 'api_info': {'status': 'healthy'}}\n"
     ]
    }
   ],
   "source": [
    "import requests\n",
    "\n",
    "# Specify the API endpoint\n",
    "api_url = \"https://api.data.gov.sg/v1/environment/air-temperature\"\n",
    "\n",
    "# Make a GET request to the API\n",
    "response = requests.get(api_url)\n",
    "\n",
    "# Check if the request was successful (status code 200)\n",
    "if response.status_code == 200:\n",
    "    # Parse JSON response\n",
    "    data = response.json()\n",
    "\n",
    "    # Now 'data' contains the information from the API, and you can work with it as needed\n",
    "    print(data)\n",
    "else:\n",
    "    print(f\"Failed to retrieve data. Status code: {response.status_code}\")\n"
   ]
  },
  {
   "cell_type": "code",
   "execution_count": 6,
   "id": "379cc100",
   "metadata": {},
   "outputs": [
    {
     "name": "stdout",
     "output_type": "stream",
     "text": [
      "Requirement already satisfied: requests in c:\\msys64\\mingw64\\lib\\python3.10\\site-packages (2.31.0)\n",
      "Requirement already satisfied: mysql-connector-python in c:\\msys64\\mingw64\\lib\\python3.10\\site-packages (8.3.0)\n",
      "Requirement already satisfied: charset-normalizer<4,>=2 in c:\\msys64\\mingw64\\lib\\python3.10\\site-packages (from requests) (3.3.2)\n",
      "Requirement already satisfied: idna<4,>=2.5 in c:\\msys64\\mingw64\\lib\\python3.10\\site-packages (from requests) (3.6)\n",
      "Requirement already satisfied: urllib3<3,>=1.21.1 in c:\\msys64\\mingw64\\lib\\python3.10\\site-packages (from requests) (2.2.1)\n",
      "Requirement already satisfied: certifi>=2017.4.17 in c:\\msys64\\mingw64\\lib\\python3.10\\site-packages (from requests) (2024.2.2)\n",
      "Requirement already satisfied: datetime in c:\\msys64\\mingw64\\lib\\python3.10\\site-packages (5.4)\n",
      "Requirement already satisfied: zope.interface in c:\\msys64\\mingw64\\lib\\python3.10\\site-packages (from datetime) (6.2)\n",
      "Requirement already satisfied: pytz in c:\\msys64\\mingw64\\lib\\python3.10\\site-packages (from datetime) (2024.1)\n",
      "Requirement already satisfied: setuptools in c:\\msys64\\mingw64\\lib\\python3.10\\site-packages (from zope.interface->datetime) (69.1.1)\n",
      "Requirement already satisfied: mysql-connector-python in c:\\msys64\\mingw64\\lib\\python3.10\\site-packages (8.3.0)\n"
     ]
    }
   ],
   "source": [
    "!pip install requests mysql-connector-python\n",
    "!pip install datetime\n",
    "import requests\n",
    "import datetime"
   ]
  },
  {
   "cell_type": "code",
   "execution_count": null,
   "id": "a950f7c1",
   "metadata": {},
   "outputs": [],
   "source": [
    "import sys\n",
    "!{sys.executable} -m pip install mysql-connector-python\n",
    "import mysql.connector\n",
    "\n"
   ]
  },
  {
   "cell_type": "code",
   "execution_count": null,
   "id": "d476f86a",
   "metadata": {},
   "outputs": [],
   "source": [
    "\n",
    "# Insert a new reading\n",
    "def insert_reading(cursor, timestamp, temp):\n",
    "    cursor.execute(\n",
    "        \"INSERT INTO readings (timestamp, temp) VALUES (%s, %s, %s)\",\n",
    "        (timestamp, temp)\n",
    "    )\n",
    "\n"
   ]
  },
  {
   "cell_type": "code",
   "execution_count": 4,
   "id": "a8c2ee7d",
   "metadata": {},
   "outputs": [
    {
     "name": "stdout",
     "output_type": "stream",
     "text": [
      "Timestamp: 2024-03-05T14:50:00+08:00, Station ID: S44, Temperature: 24.7\n",
      "Timestamp: 2024-03-05T14:50:00+08:00, Station ID: S44, Temperature: 24.7\n",
      "Timestamp: 2024-03-05T14:50:00+08:00, Station ID: S44, Temperature: 24.7\n",
      "Timestamp: 2024-03-05T14:50:00+08:00, Station ID: S44, Temperature: 24.7\n",
      "Timestamp: 2024-03-05T14:50:00+08:00, Station ID: S44, Temperature: 24.7\n",
      "Timestamp: 2024-03-05T14:50:00+08:00, Station ID: S44, Temperature: 24.7\n",
      "Timestamp: 2024-03-05T14:50:00+08:00, Station ID: S44, Temperature: 24.7\n",
      "Timestamp: 2024-03-05T14:50:00+08:00, Station ID: S44, Temperature: 24.7\n",
      "Timestamp: 2024-03-05T14:50:00+08:00, Station ID: S44, Temperature: 24.7\n",
      "Timestamp: 2024-03-05T14:50:00+08:00, Station ID: S44, Temperature: 24.7\n",
      "Timestamp: 2024-03-05T14:50:00+08:00, Station ID: S44, Temperature: 24.7\n",
      "Timestamp: 2024-03-05T14:50:00+08:00, Station ID: S44, Temperature: 24.7\n"
     ]
    },
    {
     "ename": "KeyboardInterrupt",
     "evalue": "",
     "output_type": "error",
     "traceback": [
      "\u001b[1;31m---------------------------------------------------------------------------\u001b[0m",
      "\u001b[1;31mKeyboardInterrupt\u001b[0m                         Traceback (most recent call last)",
      "Cell \u001b[1;32mIn[4], line 26\u001b[0m\n\u001b[0;32m     23\u001b[0m \u001b[38;5;28;01melse\u001b[39;00m:\n\u001b[0;32m     24\u001b[0m     \u001b[38;5;28mprint\u001b[39m(\u001b[38;5;124mf\u001b[39m\u001b[38;5;124m\"\u001b[39m\u001b[38;5;124mFailed to retrieve data. Status code: \u001b[39m\u001b[38;5;132;01m{\u001b[39;00mresponse\u001b[38;5;241m.\u001b[39mstatus_code\u001b[38;5;132;01m}\u001b[39;00m\u001b[38;5;124m\"\u001b[39m)\n\u001b[1;32m---> 26\u001b[0m time\u001b[38;5;241m.\u001b[39msleep(\u001b[38;5;241m1\u001b[39m)\n",
      "\u001b[1;31mKeyboardInterrupt\u001b[0m: "
     ]
    }
   ],
   "source": [
    "import time\n",
    "import requests\n",
    "response = requests.get(api_url)\n",
    "\n",
    "while True:\n",
    "    # Check if the request was successful (status code 200)\n",
    "    if response.status_code == 200:\n",
    "        \n",
    "        # Parse JSON response\n",
    "        data = response.json()\n",
    "        \n",
    "        for item in data['items']:\n",
    "            timestamp = item['timestamp']\n",
    "            for reading in item['readings']:\n",
    "                station_id = reading['station_id']\n",
    "                temp = reading['value']\n",
    "                \n",
    "\n",
    "                if station_id == 'S44':\n",
    "                    # string timestamp\n",
    "                    # string temp\n",
    "                    print(f\"Timestamp: {timestamp}, Station ID: {station_id}, Temperature: {temp}\")\n",
    "                    insert_reading(cursor, timestamp, temp)\n",
    "    else:\n",
    "        print(f\"Failed to retrieve data. Status code: {response.status_code}\")\n",
    "    \n",
    "    time.sleep(1)\n",
    "\n"
   ]
  }
 ],
 "metadata": {
  "kernelspec": {
   "display_name": "Python 3 (ipykernel)",
   "language": "python",
   "name": "python3"
  },
  "language_info": {
   "codemirror_mode": {
    "name": "ipython",
    "version": 3
   },
   "file_extension": ".py",
   "mimetype": "text/x-python",
   "name": "python",
   "nbconvert_exporter": "python",
   "pygments_lexer": "ipython3",
   "version": "3.11.2"
  }
 },
 "nbformat": 4,
 "nbformat_minor": 5
}
