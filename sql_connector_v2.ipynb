{
 "cells": [
  {
   "cell_type": "code",
   "execution_count": 19,
   "metadata": {},
   "outputs": [
    {
     "name": "stdout",
     "output_type": "stream",
     "text": [
      "Requirement already satisfied: mysql-connector-python in c:\\users\\ryank\\appdata\\local\\programs\\python\\python310\\lib\\site-packages (8.3.0)\n"
     ]
    }
   ],
   "source": [
    "import sys\n",
    "!{sys.executable} -m pip install mysql-connector-python\n",
    "import mysql.connector"
   ]
  },
  {
   "cell_type": "code",
   "execution_count": 20,
   "metadata": {},
   "outputs": [],
   "source": [
    "import mysql.connector\n",
    "\n",
    "# Functions to create database and tables inside database\n",
    "\n",
    "def create_database(database_name):\n",
    "    db = mysql.connector.connect(\n",
    "        host = \"localhost\",\n",
    "        user = \"root\",\n",
    "        passwd = \"password\"\n",
    "    )\n",
    "    mycursor = db.cursor()\n",
    "    mycursor.execute(\"CREATE DATABASE IF NOT EXISTS \" + database_name)\n",
    "    return\n",
    "\n",
    "def create_tables(database_name):\n",
    "    db = mysql.connector.connect(\n",
    "        host = \"localhost\",\n",
    "        user = \"root\",\n",
    "        passwd = \"password\",\n",
    "        database = database_name\n",
    "    )\n",
    "    mycursor = db.cursor()\n",
    "    mycursor.execute(\"CREATE TABLE IF NOT EXISTS Schedule(room_no INT, date_ DATE, time_ INT, booking_status INT, PRIMARY KEY (room_no, date_, time_));\")\n",
    "    mycursor.execute(\"CREATE TABLE IF NOT EXISTS Weather(date_ DATE, time_ INT, outside_temp FLOAT, PRIMARY KEY (date_, time_));\")\n",
    "    mycursor.execute(\"CREATE TABLE IF NOT EXISTS Room(room_no INT, date_ DATE, time_ INT, inside_temp FLOAT, change_temp INT, PRIMARY KEY (room_no, date_, time_));\")\n",
    "    mycursor.execute(\"CREATE TABLE IF NOT EXISTS Energy(room_no INT, date_ DATE, time_ INT, energy_consumption FLOAT, PRIMARY KEY (room_no, date_));\")\n",
    "    return\n",
    "\n",
    "create_database(\"testdata\")\n",
    "create_tables(\"testdata\")"
   ]
  },
  {
   "cell_type": "code",
   "execution_count": 21,
   "metadata": {},
   "outputs": [],
   "source": [
    "def set_database(database_name):\n",
    "    db = mysql.connector.connect(\n",
    "        host = \"localhost\",\n",
    "        user = \"root\",\n",
    "        passwd = \"password\",\n",
    "        database = database_name\n",
    "    )\n",
    "    return db\n",
    "\n",
    "db = set_database(\"testdata\")\n",
    "# Sets target database for following functions"
   ]
  },
  {
   "cell_type": "code",
   "execution_count": 22,
   "metadata": {},
   "outputs": [],
   "source": [
    "# Insert and Get functions for tables\n",
    "\n",
    "def insert_schedule_data(db, room_no,date_,time_,booking_status):\n",
    "    mycursor = db.cursor()\n",
    "    mycursor.execute(\"INSERT INTO Schedule (room_no, date_, time_, booking_status) VALUES(%s,%s,%s,%s)\", ( room_no,date_,time_,booking_status))\n",
    "    db.commit()\n",
    "    mycursor.execute(\"SELECT * FROM Schedule\")\n",
    "    for x in mycursor: print(x)\n",
    "\n",
    "def get_schedule_data(db,room_no,date_,time_):\n",
    "    mycursor = db.cursor()\n",
    "    mycursor.execute(\"SELECT booking_status FROM Schedule WHERE room_no=%s AND date_=%s AND time_=%s\",(room_no,date_,time_))\n",
    "    for x in mycursor: return x\n",
    "\n",
    "def insert_weather_data(db, date_,time_,outside_temp):\n",
    "    mycursor = db.cursor()\n",
    "    mycursor.execute(\"INSERT INTO Weather (date_, time_, outside_temp) VALUES(%s,%s,%s)\", (date_,time_,outside_temp))\n",
    "    db.commit()\n",
    "    mycursor.execute(\"SELECT * FROM Weather\")\n",
    "    for x in mycursor: print(x)\n",
    "\n",
    "def get_weather_data(db,date_,time_):\n",
    "    mycursor = db.cursor()\n",
    "    mycursor.execute(\"SELECT outside_temp FROM Weather WHERE date_=%s AND time_=%s\",(date_,time_))\n",
    "    for x in mycursor: return x\n",
    "\n",
    "def insert_room_data(db, room_no,date_,time_,inside_temp,change_temp):\n",
    "    mycursor = db.cursor()\n",
    "    mycursor.execute(\"INSERT INTO Room (room_no, date_, time_, inside_temp, change_temp) VALUES(%s,%s,%s,%s,%s)\", ( room_no,date_,time_,inside_temp,change_temp))\n",
    "    db.commit()\n",
    "    mycursor.execute(\"SELECT * FROM Room\")\n",
    "    for x in mycursor: print(x)\n",
    "\n",
    "def get_room_data(db,room_no,date_,time_):\n",
    "    mycursor = db.cursor()\n",
    "    mycursor.execute(\"SELECT inside_temp, change_temp FROM Room WHERE room_no=%s AND date_=%s AND time_=%s\",(room_no,date_,time_))\n",
    "    for x in mycursor: return x\n",
    "\n",
    "def insert_energy_data(db, room_no,date_,time_,energy_consumption):\n",
    "    mycursor = db.cursor()\n",
    "    mycursor.execute(\"INSERT INTO Energy (room_no, date_, time_, energy_consumption) VALUES(%s,%s,%s,%s)\", (room_no,date_,time_,energy_consumption))\n",
    "    db.commit()\n",
    "    mycursor.execute(\"SELECT * FROM Energy\")\n",
    "    for x in mycursor: print(x)\n",
    "\n",
    "def get_energy_data(db,room_no,date_,time_):\n",
    "    mycursor = db.cursor()\n",
    "    mycursor.execute(\"SELECT energy_consumption FROM Energy WHERE room_no=%s AND date_=%s AND time_=%s\",(room_no,date_,time_))\n",
    "    for x in mycursor: return x"
   ]
  },
  {
   "cell_type": "code",
   "execution_count": 23,
   "metadata": {},
   "outputs": [
    {
     "name": "stdout",
     "output_type": "stream",
     "text": [
      "(123, datetime.date(2024, 3, 4), 1200, 1)\n",
      "(datetime.date(2024, 3, 4), 1200, 27.8)\n",
      "(123, datetime.date(2024, 3, 4), 1200, 26.5, -1)\n",
      "(123, datetime.date(2024, 3, 4), 1200, 3147.0)\n"
     ]
    }
   ],
   "source": [
    "insert_schedule_data(db,'123','2024-03-04', '1200', '1')\n",
    "insert_weather_data(db,'2024-03-04', '1200', 27.8)\n",
    "insert_room_data(db,'123','2024-03-04', '1200',26.5,-1)\n",
    "insert_energy_data(db,'123','2024-03-04', '1200', 3147)"
   ]
  },
  {
   "cell_type": "code",
   "execution_count": 24,
   "metadata": {},
   "outputs": [
    {
     "name": "stdout",
     "output_type": "stream",
     "text": [
      "['Monday', '1200', 26.5, 27.8, 1, 3147.0, -1]\n"
     ]
    }
   ],
   "source": [
    "import datetime\n",
    "# Function to get all relevant data given a specific room and date_time slot\n",
    "\n",
    "def get_data(room_no,date_,time_):\n",
    "    date_obj = datetime.datetime.strptime(date_, '%Y-%m-%d')\n",
    "    day_of_week = date_obj.strftime('%A')\n",
    "\n",
    "    inside_temp = get_room_data(db,room_no,date_,time_)[0]\n",
    "    outside_temp = get_weather_data(db,date_,time_)[0]\n",
    "    booking_status = get_schedule_data(db,room_no,date_,time_)[0]\n",
    "    energy_consumption = get_energy_data(db,room_no,date_,time_)[0]\n",
    "    change_in_temp = get_room_data(db,room_no,date_,time_)[1]\n",
    "\n",
    "    return [day_of_week,time_,inside_temp,outside_temp,booking_status,energy_consumption,change_in_temp]\n",
    "\n",
    "print(get_data('123','2024-03-04', '1200'))"
   ]
  }
 ],
 "metadata": {
  "kernelspec": {
   "display_name": "Python 3",
   "language": "python",
   "name": "python3"
  },
  "language_info": {
   "codemirror_mode": {
    "name": "ipython",
    "version": 3
   },
   "file_extension": ".py",
   "mimetype": "text/x-python",
   "name": "python",
   "nbconvert_exporter": "python",
   "pygments_lexer": "ipython3",
   "version": "3.10.6"
  }
 },
 "nbformat": 4,
 "nbformat_minor": 2
}
