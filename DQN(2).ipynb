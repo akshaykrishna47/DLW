{
 "cells": [
  {
   "cell_type": "markdown",
   "metadata": {},
   "source": [
    "# Environment Setup"
   ]
  },
  {
   "cell_type": "markdown",
   "metadata": {},
   "source": [
    "Goal: Use DQN model to setup optimal temperature for a room <br>\n",
    "\n",
    "Factors affecting initial temperature: <br>\n",
    "<ol>\n",
    "    <li> Room booking status </li>\n",
    "    <li> Outside Temp</li>\n",
    "    <li> Day </li>\n",
    "    <li> Time </li>\n",
    "</ol>\n",
    "\n",
    "Action taken by DQN: <br>\n",
    "<ol>\n",
    "    <li> Increase Temperature </li>\n",
    "    <li> Decrease Temperature   </li>\n",
    "    <li> Maintain Temperature </li>\n",
    "</ol>\n",
    "\n",
    "Rewards for DQN : <br>\n",
    "<ol>\n",
    "    <li> Energy Consumption Levels</li>\n",
    "    <li> User Comfort</li>"
   ]
  },
  {
   "cell_type": "code",
   "execution_count": 2,
   "metadata": {},
   "outputs": [],
   "source": [
    "import gym\n",
    "import math\n",
    "import numpy as np\n",
    "import matplotlib.pyplot as plt"
   ]
  },
  {
   "cell_type": "code",
   "execution_count": 16,
   "metadata": {},
   "outputs": [
    {
     "name": "stdout",
     "output_type": "stream",
     "text": [
      "Mean Squared Error: 591.7480183967483\n"
     ]
    }
   ],
   "source": [
    "# Machine Learning to predict energy consumption\n",
    "\n",
    "import pandas as pd\n",
    "from sklearn.ensemble import RandomForestRegressor\n",
    "from sklearn.model_selection import train_test_split\n",
    "from sklearn.metrics import mean_squared_error\n",
    "training_data = pd.read_excel('output.xlsx')\n",
    "# for day data change mon to 1, tue to 2 etc\n",
    "\n",
    "training_data['day_'] = training_data['day_'].replace(['Mon','Tue','Wed','Thu','Fri','Sat','Sun'],[1,2,3,4,5,6,7])\n",
    "features = ['day_', 'time_', 'outside_temp', 'inside_temp', 'booking_status']\n",
    "X = training_data[features]\n",
    "y = training_data['energy_consumption']\n",
    "X_train, X_test, y_train, y_test = train_test_split(X, y, test_size=0.2, random_state=42)\n",
    "\n",
    "\n",
    "# Random forest model to predict energy consumption\n",
    "\n",
    "rf_model = RandomForestRegressor(n_estimators=200, random_state= 50) # 200 trees, random_state for reproducibility\n",
    "rf_model.fit(X_train, y_train)\n",
    "y_pred = rf_model.predict(X_test)\n",
    "mse = mean_squared_error(y_test, y_pred)\n",
    "print(f\"Mean Squared Error: {mse}\")"
   ]
  },
  {
   "cell_type": "code",
   "execution_count": 17,
   "metadata": {},
   "outputs": [],
   "source": [
    "# Equation to calculate energy consumption\n",
    "def energy_consumption(day, time, outside_temp, inside_temp, booking_status, change_in_temp):\n",
    "    day = day\n",
    "    time = time\n",
    "    outside_temp = outside_temp\n",
    "    inside_temp = inside_temp\n",
    "    booking_status = booking_status\n",
    "    change_in_temp = change_in_temp\n",
    "    energy_consumption = rf_model.predict([[day, time, outside_temp, inside_temp, booking_status]])\n",
    "    return energy_consumption\n",
    "\n"
   ]
  },
  {
   "cell_type": "code",
   "execution_count": 20,
   "metadata": {},
   "outputs": [],
   "source": [
    "import gym\n",
    "import numpy as np\n",
    "from gym import spaces\n",
    "class ThermostatEnvironment(gym.Env):\n",
    "    def __init__(self):\n",
    "        super(ThermostatEnvironment, self).__init__()\n",
    "        self.day = 1\n",
    "        self.time = 1\n",
    "        self.booking_status = 0\n",
    "        self.outside_temp = 30\n",
    "        self.inside_temp = 18 # what room temperature should be\n",
    "        self.action_space = spaces.Discrete(3) #increase, decrease, maintain\n",
    "        self.observation_space = spaces.Box(low=np.array([1,1,0,23,18]), high=np.array([5,24,1,40,25]), dtype=np.float32)\n",
    "        self.temperature = 18 # what room temperature is\n",
    "        self.max_temp = 25\n",
    "        self.min_temp = 18\n",
    "        self.reward = 0\n",
    "        self.done = False\n",
    "    def step(self, action):\n",
    "        # action logic\n",
    "        if action == 0: # decrease, too hot\n",
    "            self.temperature -= 1\n",
    "        elif action == 2: #increase, too cold\n",
    "            self.temperature += 1\n",
    "        else: #maintain\n",
    "            pass\n",
    "\n",
    "        # ensure temperature is within bounds\n",
    "        self.temperature = np.clip(self.temperature, self.min_temp, self.max_temp)\n",
    "\n",
    "        # calculate energy consumption\n",
    "        energy = energy_consumption(self.day, self.time, self.outside_temp, self.inside_temp, self.booking_status, self.temperature - self.inside_temp)\n",
    "\n",
    "        # calculate reward\n",
    "        # reward = 0.6* energy reward + 0.4* comfort reward\n",
    "        # energy reward\n",
    "        energy_reward = - (energy - 3200)/3200 # 3200 is the average energy consumption\n",
    "\n",
    "        # comfort reward\n",
    "        # reward if user does not change temperature\n",
    "        change_in_temp = self.temperature - self.inside_temp\n",
    "        if change_in_temp == 0:\n",
    "            comfort_reward = 1\n",
    "        if change_in_temp > 0:\n",
    "            comfort_reward = -0\n",
    "        if change_in_temp < 0:\n",
    "            comfort_reward = -1\n",
    "\n",
    "        reward = 0.6* energy_reward + 0.4* comfort_reward\n",
    "        self.reward += reward\n",
    "        self.done = True\n",
    "\n",
    "        return np.array([self.day, self.time, self.booking_status, self.outside_temp, self.inside_temp]), reward, self.done, {}\n",
    "    \n",
    "    def reset(self):\n",
    "        self.day = 1\n",
    "        self.time = 1\n",
    "        self.booking_status = 0\n",
    "        self.outside_temp = 30\n",
    "        self.inside_temp = 18\n",
    "        self.temperature = 18\n",
    "        self.reward = 0\n",
    "        self.done = False\n",
    "        return np.array([self.day, self.time, self.booking_status, self.outside_temp, self.inside_temp])\n",
    "    \n",
    "    def render(self):\n",
    "        pass\n",
    "    \n",
    "        \n"
   ]
  },
  {
   "cell_type": "markdown",
   "metadata": {},
   "source": [
    "# Q Network"
   ]
  },
  {
   "cell_type": "code",
   "execution_count": 21,
   "metadata": {},
   "outputs": [],
   "source": [
    "# Neural Network\n",
    "import torch\n",
    "import torch.nn as nn\n",
    "import torch.optim as optim\n",
    "import torch.nn.functional as F\n",
    "import random\n",
    "import copy\n",
    "\n",
    "class DQN(nn.Module):\n",
    "    def __init__(self, input_size, action_size):\n",
    "        super(DQN, self).__init__()\n",
    "        self.fc1 = nn.Linear(input_size, 25)  # 5 input features, 1 output features\n",
    "        self.fc2 = nn.Linear(25,25)\n",
    "        self.fc3 = nn.Linear(25, action_size) # 10 input features, 2 output features\n",
    "    \n",
    "    def forward(self, x):\n",
    "        x = self.fc1(x)\n",
    "        x = F.relu(x)\n",
    "        x = self.fc2(x)\n",
    "        x = F.relu(x)\n",
    "        x = self.fc3(x)\n",
    "        return x"
   ]
  },
  {
   "cell_type": "markdown",
   "metadata": {},
   "source": [
    "# Import training data"
   ]
  },
  {
   "cell_type": "markdown",
   "metadata": {},
   "source": [
    "# Training"
   ]
  },
  {
   "cell_type": "code",
   "execution_count": 22,
   "metadata": {},
   "outputs": [
    {
     "name": "stderr",
     "output_type": "stream",
     "text": [
      "c:\\Users\\Admin\\AppData\\Local\\Programs\\Python\\Python311\\Lib\\site-packages\\gym\\spaces\\box.py:127: UserWarning: \u001b[33mWARN: Box bound precision lowered by casting to float32\u001b[0m\n",
      "  logger.warn(f\"Box bound precision lowered by casting to {self.dtype}\")\n"
     ]
    }
   ],
   "source": [
    "# Train the model\n",
    "\n",
    "# Hyperparameters\n",
    "learning_rate = 0.001\n",
    "gamma = 0.9\n",
    "buffer_limit = 50000\n",
    "batch_size = 32\n",
    "tau = 0.01\n",
    "input_size = 5\n",
    "action_size = 4\n",
    "device = torch.device('cuda' if torch.cuda.is_available() else 'cpu')\n",
    "\n",
    "# Initialize the environment\n",
    "env = ThermostatEnvironment()\n",
    "env.reset()\n",
    "\n",
    "# Initialize the model\n",
    "model = DQN(input_size, action_size).to(device)\n",
    "target_model = copy.deepcopy(model)\n",
    "target_model.load_state_dict(model.state_dict())\n",
    "target_model.eval()\n",
    "optimizer = optim.Adam(model.parameters(), lr=learning_rate)\n",
    "\n",
    "# Initialize the replay buffer\n",
    "replay_buffer = []\n",
    "replay_buffer_size = 0\n",
    "\n",
    "# Initialize the training parameters\n",
    "num_episodes = 100\n",
    "epsilon = 0.1\n",
    "epsilon_decay = 0.99\n",
    "epsilon_min = 0.01\n",
    "update_every = 10\n",
    "update_count = 0\n",
    "loss_fn = nn.MSELoss()\n",
    "\n",
    "# Training loop\n",
    "\n"
   ]
  },
  {
   "cell_type": "code",
   "execution_count": null,
   "metadata": {},
   "outputs": [],
   "source": [
    "# Training loop\n",
    "\n",
    "for episode in range(num_episodes):\n",
    "    "
   ]
  }
 ],
 "metadata": {
  "kernelspec": {
   "display_name": "Python 3",
   "language": "python",
   "name": "python3"
  },
  "language_info": {
   "codemirror_mode": {
    "name": "ipython",
    "version": 3
   },
   "file_extension": ".py",
   "mimetype": "text/x-python",
   "name": "python",
   "nbconvert_exporter": "python",
   "pygments_lexer": "ipython3",
   "version": "3.11.2"
  }
 },
 "nbformat": 4,
 "nbformat_minor": 2
}
